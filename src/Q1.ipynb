{
 "cells": [
  {
   "cell_type": "code",
   "execution_count": 1,
   "metadata": {},
   "outputs": [
    {
     "ename": "LoadError",
     "evalue": "AssertionError: sourcepath !== nothing",
     "output_type": "error",
     "traceback": [
      "AssertionError: sourcepath !== nothing",
      "",
      "Stacktrace:",
      "  [1] is_package_downloaded(ctx::Pkg.Types.Context, pkg::Pkg.Types.PackageSpec)",
      "    @ Pkg.Operations C:\\buildbot\\worker\\package_win64\\build\\usr\\share\\julia\\stdlib\\v1.6\\Pkg\\src\\Operations.jl:1789",
      "  [2] #13",
      "    @ C:\\buildbot\\worker\\package_win64\\build\\usr\\share\\julia\\stdlib\\v1.6\\Pkg\\src\\Operations.jl:131 [inlined]",
      "  [3] _all",
      "    @ .\\reduce.jl:923 [inlined]",
      "  [4] #all#698",
      "    @ .\\reducedim.jl:886 [inlined]",
      "  [5] all",
      "    @ .\\reducedim.jl:886 [inlined]",
      "  [6] is_instantiated(ctx::Pkg.Types.Context)",
      "    @ Pkg.Operations C:\\buildbot\\worker\\package_win64\\build\\usr\\share\\julia\\stdlib\\v1.6\\Pkg\\src\\Operations.jl:131",
      "  [7] instantiate(ctx::Pkg.Types.Context; manifest::Nothing, update_registry::Bool, verbose::Bool, platform::Base.BinaryPlatforms.Platform, allow_build::Bool, allow_autoprecomp::Bool, kwargs::Base.Iterators.Pairs{Union{}, Union{}, Tuple{}, NamedTuple{(), Tuple{}}})",
      "    @ Pkg.API C:\\buildbot\\worker\\package_win64\\build\\usr\\share\\julia\\stdlib\\v1.6\\Pkg\\src\\API.jl:1358",
      "  [8] instantiate",
      "    @ C:\\buildbot\\worker\\package_win64\\build\\usr\\share\\julia\\stdlib\\v1.6\\Pkg\\src\\API.jl:1325 [inlined]",
      "  [9] #instantiate#252",
      "    @ C:\\buildbot\\worker\\package_win64\\build\\usr\\share\\julia\\stdlib\\v1.6\\Pkg\\src\\API.jl:1321 [inlined]",
      " [10] instantiate()",
      "    @ Pkg.API C:\\buildbot\\worker\\package_win64\\build\\usr\\share\\julia\\stdlib\\v1.6\\Pkg\\src\\API.jl:1321",
      " [11] top-level scope",
      "    @ In[1]:1",
      " [12] eval",
      "    @ .\\boot.jl:360 [inlined]",
      " [13] include_string(mapexpr::typeof(REPL.softscope), mod::Module, code::String, filename::String)",
      "    @ Base .\\loading.jl:1116"
     ]
    }
   ],
   "source": [
    "import Pkg; Pkg.activate(joinpath(@__DIR__,\"..\")); Pkg.instantiate();\n",
    "using LinearAlgebra\n",
    "using JLD2\n",
    "using Test\n",
    "using Statistics\n",
    "const resfile = joinpath(@__DIR__, \"q1.jld2\")"
   ]
  },
  {
   "cell_type": "code",
   "execution_count": 2,
   "metadata": {},
   "outputs": [],
   "source": [
    "import Pkg; Pkg.add(\"Plots\")"
   ]
  },
  {
   "cell_type": "markdown",
   "metadata": {},
   "source": [
    "# Question 1: Implicit Integrators (25 pts)\n",
    "In this question we'll be taking a deeper look into implicit integration techniques, and some of the advantages they bring."
   ]
  },
  {
   "cell_type": "markdown",
   "metadata": {},
   "source": [
    "## Part (a): Implicit Midpoint (3 pts)\n",
    "Implement implicit midpoint integration for the simple pendulum with $m = l = 1$ and $g = 9.81$:\n",
    "\n",
    "Recall from lecture that implicit integration is defined by the following formula:\n",
    "$$ x_{n+1} = x_n + h f\\left(\\frac{x_{n+1} + x_n}{2}\\right) $$\n",
    "\n",
    "In order to use an implicit integrator, we need to solve a root-finding problem using Newton's method. For convenience, we'll define a function `implicit_midpoint` that outputs \n",
    "the residual error of our integrator:\n",
    "\n",
    "$$ x_n + h f\\left(\\frac{x_{n+1} + x_n}{2}\\right) - x_{n+1} = 0 $$\n",
    "\n",
    "\n",
    "**NOTE**: Our `implicit_midpoint` function accepts as it's first input a function handle `f`. In Julia, functions are themselves objects and can be passed to other functions. For this problem, our function `f` will always be `pendulum_dynamics`, so you'd call your implicit midpoint method like: `implicit_midpoint(pendulum_dynamics, x1, x2, h)`"
   ]
  },
  {
   "cell_type": "code",
   "execution_count": 3,
   "metadata": {},
   "outputs": [
    {
     "data": {
      "text/plain": [
       "implicit_midpoint"
      ]
     },
     "execution_count": 3,
     "metadata": {},
     "output_type": "execute_result"
    }
   ],
   "source": [
    "# TASK: Implement the `pendulum_dynamics` function\n",
    "#  TIP: When allocating the xdot vector, be sure to use `zero(x)` to make it the same type as the input vector.\n",
    "#       This makes it work with ForwardDiff, since `eltype(x)` will be a ForwardDiff.Dual type.\n",
    "\"\"\"\n",
    "    pendulum_dynamics(x; [m, l, g])\n",
    "\n",
    "Returns the derivative of the state vector `x = [θ, ω]`, given mass `m`, length `l`, and gravity `g`.\n",
    "\"\"\"\n",
    "function pendulum_dynamics(x; m=1, l=1, g=9.81)\n",
    "    # TODO: Implement this method\n",
    "    xdot = zero(x)\n",
    "    xdot[1] = x[2]\n",
    "    xdot[2] = -(g/l)*sin(x[1])\n",
    "    return xdot\n",
    "end\n",
    "\n",
    "# TASK: Implement the `implicit_midpoint_pendulum!` function\n",
    "\"\"\"\n",
    "    x2 = implicit_midpoint(f, x1, x2, h)\n",
    "\n",
    "Evaluate the residual of the implicit midpoint integrator for the dynamics `f` with a time step of `h`.\n",
    "The dynamics function `f` is expected to take a state vector as an argument. \n",
    "\"\"\"\n",
    "function implicit_midpoint(f, x1, x2, h)\n",
    "    # TODO: Implement this method\n",
    "    out = zero(x2)\n",
    "    out = x1 + h * f((x2+x1)/2)-x2\n",
    "    return out\n",
    "end"
   ]
  },
  {
   "cell_type": "code",
   "execution_count": 4,
   "metadata": {},
   "outputs": [
    {
     "ename": "LoadError",
     "evalue": "LoadError: UndefVarError: @testset not defined\nin expression starting at In[4]:1",
     "output_type": "error",
     "traceback": [
      "LoadError: UndefVarError: @testset not defined\nin expression starting at In[4]:1",
      "",
      "Stacktrace:",
      " [1] top-level scope",
      "   @ :0",
      " [2] eval",
      "   @ .\\boot.jl:360 [inlined]",
      " [3] include_string(mapexpr::typeof(REPL.softscope), mod::Module, code::String, filename::String)",
      "   @ Base .\\loading.jl:1116"
     ]
    }
   ],
   "source": [
    "@testset \"1a\" begin                                                            # POINTS = 3\n",
    "    f = pendulum_dynamics\n",
    "    x1 = [0.12, -1.5]\n",
    "    x2 = [-0.5, 10.2]\n",
    "    h = 0.1\n",
    "    @testset \"pendulum dynamics\" begin                                         # POINTS = 1\n",
    "        @test pendulum_dynamics([0,0.]) ≈ zeros(2)                             # POINTS = 0\n",
    "        @test pendulum_dynamics(x1) ≈ load(resfile, \"xdot\")                    # POINTS = 1\n",
    "    end\n",
    "    @testset \"implicit midpoint\" begin                                         # POINTS = 2\n",
    "        @test implicit_midpoint(f, zeros(2), zeros(2), h) ≈ zeros(2)           # POINTS = 0\n",
    "        @test implicit_midpoint(f, x1, x1, 0) ≈ zeros(2)                       # POINTS = 1\n",
    "        @test implicit_midpoint(f, x1, x2, h) ≈ load(resfile, \"midpoint_res\")  # POINTS = 1\n",
    "    end\n",
    "end;"
   ]
  },
  {
   "cell_type": "markdown",
   "metadata": {},
   "source": [
    "## Part (b): Solve using Newton's Method (10 pts)\n",
    "Use Newton's method to solve for $x_{n+1}$ with initial guess $x_{n+1} = x_n$. Solve such that the 2-norm of the residual is less than 1e-6. \n",
    "\n",
    "Recall that Newton's method is an interative root-finding method. Each iteration looks like:\n",
    "\n",
    "$$ x^{(i+1)} = x^{(i)} - \\frac{\\partial f}{\\partial x}^{-1} f(x) $$\n",
    "\n",
    "**NOTE**: It should take 5 iterations or less. If it's taking more iterations than that, you're doing something wrong."
   ]
  },
  {
   "cell_type": "code",
   "execution_count": 4,
   "metadata": {},
   "outputs": [
    {
     "data": {
      "text/plain": [
       "implicit_midpoint_solve!"
      ]
     },
     "execution_count": 4,
     "metadata": {},
     "output_type": "execute_result"
    }
   ],
   "source": [
    "# TASK: Complete the following function\n",
    "using ForwardDiff\n",
    "\"\"\"\n",
    "    implicit_midpoint_solve!(f,x1,x2,h)\n",
    "\n",
    "Find the `x2` that satisfies implicit midpoint integration for the pendulum dynamics. \n",
    "\n",
    "Should modify `x2` in-place and return a vector of 2-norm residuals. The input value of `x2`\n",
    "should be used as the initial guess.\n",
    "\"\"\"\n",
    "function implicit_midpoint_solve!(f, x1, x2, h; ϵ=1e-6)::Vector{Float64}\n",
    "    # TODO: Implement this function. Feel free to add optional input arguments as needed\n",
    "    residuals = Float64[]\n",
    "    x = [x2[1]\n",
    "        x2[2]]\n",
    "    diff = implicit_midpoint(f,x1,x,h)\n",
    "    residuals = [norm(diff)]\n",
    "    \n",
    "    while norm(diff) > ϵ\n",
    "        delt = implicit_midpoint(f,x1,x,h)\n",
    "        J = ForwardDiff.jacobian(x->implicit_midpoint(f,x1,x,h),x)\n",
    "        dx = -J \\ delt\n",
    "        x  = x + dx\n",
    "        diff = implicit_midpoint(f,x1,x,h)\n",
    "        residuals = [residuals norm(diff)]\n",
    "    end\n",
    "    x2[1] = x[1]\n",
    "    x2[2] = x[2]\n",
    "    \n",
    "    return vec(residuals)\n",
    "end"
   ]
  },
  {
   "cell_type": "code",
   "execution_count": 5,
   "metadata": {},
   "outputs": [
    {
     "name": "stdout",
     "output_type": "stream",
     "text": [
      "\u001b[0m\u001b[1mTest Summary: | \u001b[22m\u001b[32m\u001b[1mPass  \u001b[22m\u001b[39m\u001b[36m\u001b[1mTotal\u001b[22m\u001b[39m\n",
      "1b            | \u001b[32m   3  \u001b[39m\u001b[36m    3\u001b[39m\n"
     ]
    }
   ],
   "source": [
    "@testset \"1b\" begin                                # POINTS = 10\n",
    "    f = pendulum_dynamics\n",
    "    x0 = [deg2rad(45), 0]\n",
    "    h = 0.1\n",
    "    @testset \"Implicit Midpoint Solve\" begin       # POINTS = 10\n",
    "        x_next = copy(x0)\n",
    "        residuals = implicit_midpoint_solve!(pendulum_dynamics, x0, x_next, h)\n",
    "        @test residuals[end] < 1e-6                # POINTS = 4\n",
    "        @test length(residuals) < 5                # POINTS = 1\n",
    "        @test x_next ≈ load(resfile, \"x_next\")     # POINTS = 5\n",
    "    end\n",
    "end;"
   ]
  },
  {
   "cell_type": "markdown",
   "metadata": {},
   "source": [
    "## Part (c): Energy Analysis (2 pts)\n",
    "Simulate with $h=0.1$ for 1 hour and plot the total energy of the system vs time:\n",
    "$$ E = \\frac{1}{2} m l^2 \\omega^2 + m g l (1 - \\cos \\theta) $$\n",
    "\n",
    "Start the simulation with an initial state of 45 degrees and zero velocity."
   ]
  },
  {
   "cell_type": "code",
   "execution_count": 6,
   "metadata": {},
   "outputs": [
    {
     "ename": "LoadError",
     "evalue": "Failed to precompile Plots [91a5bcdd-55d7-5caf-9e0b-520d859cae80] to C:\\Users\\bdw19\\.julia\\compiled\\v1.7\\Plots\\jl_D28F.tmp.",
     "output_type": "error",
     "traceback": [
      "Failed to precompile Plots [91a5bcdd-55d7-5caf-9e0b-520d859cae80] to C:\\Users\\bdw19\\.julia\\compiled\\v1.7\\Plots\\jl_D28F.tmp.",
      "",
      "Stacktrace:",
      " [1] error(s::String)",
      "   @ Base .\\error.jl:33",
      " [2] compilecache(pkg::Base.PkgId, path::String, internal_stderr::IO, internal_stdout::IO, ignore_loaded_modules::Bool)",
      "   @ Base .\\loading.jl:1466",
      " [3] compilecache(pkg::Base.PkgId, path::String)",
      "   @ Base .\\loading.jl:1410",
      " [4] _require(pkg::Base.PkgId)",
      "   @ Base .\\loading.jl:1120",
      " [5] require(uuidkey::Base.PkgId)",
      "   @ Base .\\loading.jl:1013",
      " [6] require(into::Module, mod::Symbol)",
      "   @ Base .\\loading.jl:997",
      " [7] eval",
      "   @ .\\boot.jl:373 [inlined]",
      " [8] include_string(mapexpr::typeof(REPL.softscope), mod::Module, code::String, filename::String)",
      "   @ Base .\\loading.jl:1196"
     ]
    }
   ],
   "source": [
    "# TASK: Compute the energy of the system. Store the result in the vector `energy_implicit::Vector{Float64}`\n",
    "using Plots\n",
    "\n",
    "\n",
    "energy_implicit = Float64[]\n",
    "x = [pi/4\n",
    "    0]\n",
    "f = pendulum_dynamics\n",
    "t = Array(range(0,3600,step=0.1))\n",
    "h = 0.1\n",
    "g = 9.81\n",
    "x_nxt = x\n",
    "\n",
    "for i = 1:(length(t))\n",
    "    residuals = implicit_midpoint_solve!(f,x,x_nxt,h)\n",
    "    E = 0.5*1*x_nxt[2]*x_nxt[2]+g*1*(1-cos(x_nxt[1]))\n",
    "    energy_implicit = [energy_implicit\n",
    "                                    E]\n",
    "    x = x_nxt\n",
    "end\n",
    "\n",
    "plot(t,energy_implicit)"
   ]
  },
  {
   "cell_type": "code",
   "execution_count": 32,
   "metadata": {},
   "outputs": [
    {
     "name": "stdout",
     "output_type": "stream",
     "text": [
      "1c: \u001b[91m\u001b[1mError During Test\u001b[22m\u001b[39m at \u001b[39m\u001b[1mIn[32]:2\u001b[22m\n",
      "  Test threw exception\n",
      "  Expression: ≈(mean(energy_implicit), load(resfile, \"implicit_energy_mean\"), atol = 0.001)\n",
      "  UndefVarError: energy_implicit not defined\n",
      "  Stacktrace:\n",
      "   [1] \u001b[0m\u001b[1mmacro expansion\u001b[22m\n",
      "  \u001b[90m   @ \u001b[39m\u001b[90mC:\\Users\\bdw19\\AppData\\Local\\Programs\\Julia-1.7.2\\share\\julia\\stdlib\\v1.7\\Test\\src\\\u001b[39m\u001b[90m\u001b[4mTest.jl:445\u001b[24m\u001b[39m\u001b[90m [inlined]\u001b[39m\n",
      "   [2] \u001b[0m\u001b[1mmacro expansion\u001b[22m\n",
      "  \u001b[90m   @ \u001b[39m\u001b[90m\u001b[4mIn[32]:2\u001b[24m\u001b[39m\u001b[90m [inlined]\u001b[39m\n",
      "   [3] \u001b[0m\u001b[1mmacro expansion\u001b[22m\n",
      "  \u001b[90m   @ \u001b[39m\u001b[90mC:\\Users\\bdw19\\AppData\\Local\\Programs\\Julia-1.7.2\\share\\julia\\stdlib\\v1.7\\Test\\src\\\u001b[39m\u001b[90m\u001b[4mTest.jl:1283\u001b[24m\u001b[39m\u001b[90m [inlined]\u001b[39m\n",
      "   [4] top-level scope\n",
      "  \u001b[90m   @ \u001b[39m\u001b[90m\u001b[4mIn[32]:2\u001b[24m\u001b[39m\n",
      "1c: \u001b[91m\u001b[1mError During Test\u001b[22m\u001b[39m at \u001b[39m\u001b[1mIn[32]:3\u001b[22m\n",
      "  Test threw exception\n",
      "  Expression: std(energy_implicit) < 0.05\n",
      "  UndefVarError: energy_implicit not defined\n",
      "  Stacktrace:\n",
      "   [1] \u001b[0m\u001b[1mmacro expansion\u001b[22m\n",
      "  \u001b[90m   @ \u001b[39m\u001b[90mC:\\Users\\bdw19\\AppData\\Local\\Programs\\Julia-1.7.2\\share\\julia\\stdlib\\v1.7\\Test\\src\\\u001b[39m\u001b[90m\u001b[4mTest.jl:445\u001b[24m\u001b[39m\u001b[90m [inlined]\u001b[39m\n",
      "   [2] \u001b[0m\u001b[1mmacro expansion\u001b[22m\n",
      "  \u001b[90m   @ \u001b[39m\u001b[90m\u001b[4mIn[32]:3\u001b[24m\u001b[39m\u001b[90m [inlined]\u001b[39m\n",
      "   [3] \u001b[0m\u001b[1mmacro expansion\u001b[22m\n",
      "  \u001b[90m   @ \u001b[39m\u001b[90mC:\\Users\\bdw19\\AppData\\Local\\Programs\\Julia-1.7.2\\share\\julia\\stdlib\\v1.7\\Test\\src\\\u001b[39m\u001b[90m\u001b[4mTest.jl:1283\u001b[24m\u001b[39m\u001b[90m [inlined]\u001b[39m\n",
      "   [4] top-level scope\n",
      "  \u001b[90m   @ \u001b[39m\u001b[90m\u001b[4mIn[32]:2\u001b[24m\u001b[39m\n",
      "\u001b[0m\u001b[1mTest Summary: | \u001b[22m\u001b[91m\u001b[1mError  \u001b[22m\u001b[39m\u001b[36m\u001b[1mTotal\u001b[22m\u001b[39m\n",
      "1c            | \u001b[91m    2  \u001b[39m\u001b[36m    2\u001b[39m\n"
     ]
    },
    {
     "ename": "LoadError",
     "evalue": "\u001b[91mSome tests did not pass: 0 passed, 0 failed, 2 errored, 0 broken.\u001b[39m",
     "output_type": "error",
     "traceback": [
      "\u001b[91mSome tests did not pass: 0 passed, 0 failed, 2 errored, 0 broken.\u001b[39m",
      "",
      "Stacktrace:",
      " [1] finish(ts::Test.DefaultTestSet)",
      "   @ Test C:\\Users\\bdw19\\AppData\\Local\\Programs\\Julia-1.7.2\\share\\julia\\stdlib\\v1.7\\Test\\src\\Test.jl:1044",
      " [2] macro expansion",
      "   @ C:\\Users\\bdw19\\AppData\\Local\\Programs\\Julia-1.7.2\\share\\julia\\stdlib\\v1.7\\Test\\src\\Test.jl:1294 [inlined]",
      " [3] top-level scope",
      "   @ In[32]:2",
      " [4] eval",
      "   @ .\\boot.jl:373 [inlined]",
      " [5] include_string(mapexpr::typeof(REPL.softscope), mod::Module, code::String, filename::String)",
      "   @ Base .\\loading.jl:1196"
     ]
    }
   ],
   "source": [
    "@testset \"1c\" begin                                                                  # POINTS = 2\n",
    "    @test mean(energy_implicit) ≈ load(resfile, \"implicit_energy_mean\") atol = 1e-3  # POINTS = 1\n",
    "    @test std(energy_implicit) < 0.05                                                # POINTS = 1\n",
    "end;"
   ]
  },
  {
   "cell_type": "markdown",
   "metadata": {},
   "source": [
    "## Part (d): RK4 Comparison (5 pts)\n",
    "Compare the energy behavior of the implicit midpoint integrator with a 4th order Runge Kutta integrator."
   ]
  },
  {
   "cell_type": "code",
   "execution_count": 7,
   "metadata": {},
   "outputs": [
    {
     "data": {
      "text/plain": [
       "rk4"
      ]
     },
     "execution_count": 7,
     "metadata": {},
     "output_type": "execute_result"
    }
   ],
   "source": [
    "# TASK: implement a 4th order Runge Kutta integrator for the pendulum (3 pts)\n",
    "\"\"\"\n",
    "    rk4(f, x, h)\n",
    "\n",
    "Integrate the dynamics `f(x)` with a 4th Order Runge Kutta method at state vector `x` and time step `h`.\n",
    "\"\"\"\n",
    "function rk4(f, x, h)\n",
    "    # TODO: implement\n",
    "    xnext = zero(x)\n",
    "    first = f(x)\n",
    "    second = f(x+0.5*h*first)\n",
    "    third = f(x+0.5*h*second)\n",
    "    forth = f(x+h*third)\n",
    "    xnext = x+(h/6)*(first+2*second+2*third+forth)\n",
    "    \n",
    "    return xnext\n",
    "end"
   ]
  },
  {
   "cell_type": "code",
   "execution_count": 8,
   "metadata": {},
   "outputs": [
    {
     "name": "stdout",
     "output_type": "stream",
     "text": [
      "\u001b[0m\u001b[1mTest Summary: | \u001b[22m\u001b[32m\u001b[1mPass  \u001b[22m\u001b[39m\u001b[36m\u001b[1mTotal\u001b[22m\u001b[39m\n",
      "1d            | \u001b[32m   1  \u001b[39m\u001b[36m    1\u001b[39m\n"
     ]
    }
   ],
   "source": [
    "@testset \"1d\" begin                                # POINTS = 1\n",
    "    @testset \"rk4\" begin                           # POINTS = 1\n",
    "        f = pendulum_dynamics\n",
    "        x = [-0.12, 1.37]\n",
    "        h = 0.1\n",
    "        @test rk4(f, x, h) ≈ load(resfile, \"rk4\")  # POINTS = 1\n",
    "    end\n",
    "end;"
   ]
  },
  {
   "cell_type": "code",
   "execution_count": 9,
   "metadata": {},
   "outputs": [
    {
     "ename": "LoadError",
     "evalue": "Failed to precompile Plots [91a5bcdd-55d7-5caf-9e0b-520d859cae80] to C:\\Users\\bdw19\\.julia\\compiled\\v1.7\\Plots\\jl_5E07.tmp.",
     "output_type": "error",
     "traceback": [
      "Failed to precompile Plots [91a5bcdd-55d7-5caf-9e0b-520d859cae80] to C:\\Users\\bdw19\\.julia\\compiled\\v1.7\\Plots\\jl_5E07.tmp.",
      "",
      "Stacktrace:",
      " [1] error(s::String)",
      "   @ Base .\\error.jl:33",
      " [2] compilecache(pkg::Base.PkgId, path::String, internal_stderr::IO, internal_stdout::IO, ignore_loaded_modules::Bool)",
      "   @ Base .\\loading.jl:1466",
      " [3] compilecache(pkg::Base.PkgId, path::String)",
      "   @ Base .\\loading.jl:1410",
      " [4] _require(pkg::Base.PkgId)",
      "   @ Base .\\loading.jl:1120",
      " [5] require(uuidkey::Base.PkgId)",
      "   @ Base .\\loading.jl:1013",
      " [6] require(into::Module, mod::Symbol)",
      "   @ Base .\\loading.jl:997",
      " [7] eval",
      "   @ .\\boot.jl:373 [inlined]",
      " [8] include_string(mapexpr::typeof(REPL.softscope), mod::Module, code::String, filename::String)",
      "   @ Base .\\loading.jl:1196"
     ]
    }
   ],
   "source": [
    "# TASK: Compute the energy behavior of rk4. Store the result in `energy_rk4::Vector{Float64}` (1 pt)\n",
    "# TASK: Generate a plot of energy vs time comparing implicit midpoint with rk4 (1 pt)\n",
    "\n",
    "using Plots\n",
    "\n",
    "energyrk4 = Float64[]\n",
    "x = [pi/4\n",
    "    0]\n",
    "t = Array(range(0,3600,step=0.1))\n",
    "h = 0.1\n",
    "g = 9.81\n",
    "x_nxt = x\n",
    "\n",
    "for i = 1:length(t)\n",
    "    x_nxt = rk4(pendulum_dynamics,x,h)\n",
    "    E = 0.5*1*x_nxt[2]*x_nxt[2]+g*1*(1-cos(x_nxt[1]))\n",
    "    energyrk4 = [energyrk4\n",
    "                    E]\n",
    "    x = x_nxt\n",
    "end"
   ]
  },
  {
   "cell_type": "code",
   "execution_count": 10,
   "metadata": {},
   "outputs": [
    {
     "name": "stdout",
     "output_type": "stream",
     "text": [
      "energy comparison: \u001b[91m\u001b[1mError During Test\u001b[22m\u001b[39m at \u001b[39m\u001b[1mIn[10]:3\u001b[22m\n",
      "  Test threw exception\n",
      "  Expression: length(energy_rk4) == length(energy_implicit)\n",
      "  UndefVarError: energy_rk4 not defined\n",
      "  Stacktrace:\n",
      "   [1] \u001b[0m\u001b[1mmacro expansion\u001b[22m\n",
      "  \u001b[90m   @ \u001b[39m\u001b[90mC:\\Users\\bdw19\\AppData\\Local\\Programs\\Julia-1.7.2\\share\\julia\\stdlib\\v1.7\\Test\\src\\\u001b[39m\u001b[90m\u001b[4mTest.jl:445\u001b[24m\u001b[39m\u001b[90m [inlined]\u001b[39m\n",
      "   [2] \u001b[0m\u001b[1mmacro expansion\u001b[22m\n",
      "  \u001b[90m   @ \u001b[39m\u001b[90m\u001b[4mIn[10]:3\u001b[24m\u001b[39m\u001b[90m [inlined]\u001b[39m\n",
      "   [3] \u001b[0m\u001b[1mmacro expansion\u001b[22m\n",
      "  \u001b[90m   @ \u001b[39m\u001b[90mC:\\Users\\bdw19\\AppData\\Local\\Programs\\Julia-1.7.2\\share\\julia\\stdlib\\v1.7\\Test\\src\\\u001b[39m\u001b[90m\u001b[4mTest.jl:1283\u001b[24m\u001b[39m\u001b[90m [inlined]\u001b[39m\n",
      "   [4] \u001b[0m\u001b[1mmacro expansion\u001b[22m\n",
      "  \u001b[90m   @ \u001b[39m\u001b[90m\u001b[4mIn[10]:3\u001b[24m\u001b[39m\u001b[90m [inlined]\u001b[39m\n",
      "   [5] \u001b[0m\u001b[1mmacro expansion\u001b[22m\n",
      "  \u001b[90m   @ \u001b[39m\u001b[90mC:\\Users\\bdw19\\AppData\\Local\\Programs\\Julia-1.7.2\\share\\julia\\stdlib\\v1.7\\Test\\src\\\u001b[39m\u001b[90m\u001b[4mTest.jl:1283\u001b[24m\u001b[39m\u001b[90m [inlined]\u001b[39m\n",
      "   [6] top-level scope\n",
      "  \u001b[90m   @ \u001b[39m\u001b[90m\u001b[4mIn[10]:2\u001b[24m\u001b[39m\n",
      "energy comparison: \u001b[91m\u001b[1mError During Test\u001b[22m\u001b[39m at \u001b[39m\u001b[1mIn[10]:4\u001b[22m\n",
      "  Test threw exception\n",
      "  Expression: energy_rk4[end] < energy_implicit[end]\n",
      "  UndefVarError: energy_rk4 not defined\n",
      "  Stacktrace:\n",
      "   [1] \u001b[0m\u001b[1mmacro expansion\u001b[22m\n",
      "  \u001b[90m   @ \u001b[39m\u001b[90mC:\\Users\\bdw19\\AppData\\Local\\Programs\\Julia-1.7.2\\share\\julia\\stdlib\\v1.7\\Test\\src\\\u001b[39m\u001b[90m\u001b[4mTest.jl:445\u001b[24m\u001b[39m\u001b[90m [inlined]\u001b[39m\n",
      "   [2] \u001b[0m\u001b[1mmacro expansion\u001b[22m\n",
      "  \u001b[90m   @ \u001b[39m\u001b[90m\u001b[4mIn[10]:4\u001b[24m\u001b[39m\u001b[90m [inlined]\u001b[39m\n",
      "   [3] \u001b[0m\u001b[1mmacro expansion\u001b[22m\n",
      "  \u001b[90m   @ \u001b[39m\u001b[90mC:\\Users\\bdw19\\AppData\\Local\\Programs\\Julia-1.7.2\\share\\julia\\stdlib\\v1.7\\Test\\src\\\u001b[39m\u001b[90m\u001b[4mTest.jl:1283\u001b[24m\u001b[39m\u001b[90m [inlined]\u001b[39m\n",
      "   [4] \u001b[0m\u001b[1mmacro expansion\u001b[22m\n",
      "  \u001b[90m   @ \u001b[39m\u001b[90m\u001b[4mIn[10]:3\u001b[24m\u001b[39m\u001b[90m [inlined]\u001b[39m\n",
      "   [5] \u001b[0m\u001b[1mmacro expansion\u001b[22m\n",
      "  \u001b[90m   @ \u001b[39m\u001b[90mC:\\Users\\bdw19\\AppData\\Local\\Programs\\Julia-1.7.2\\share\\julia\\stdlib\\v1.7\\Test\\src\\\u001b[39m\u001b[90m\u001b[4mTest.jl:1283\u001b[24m\u001b[39m\u001b[90m [inlined]\u001b[39m\n",
      "   [6] top-level scope\n",
      "  \u001b[90m   @ \u001b[39m\u001b[90m\u001b[4mIn[10]:2\u001b[24m\u001b[39m\n",
      "energy comparison: \u001b[91m\u001b[1mError During Test\u001b[22m\u001b[39m at \u001b[39m\u001b[1mIn[10]:5\u001b[22m\n",
      "  Test threw exception\n",
      "  Expression: ≈(mean(diff(energy_rk4)), -2.5e-5, atol = 1.0e-5)\n",
      "  UndefVarError: energy_rk4 not defined\n",
      "  Stacktrace:\n",
      "   [1] \u001b[0m\u001b[1mmacro expansion\u001b[22m\n",
      "  \u001b[90m   @ \u001b[39m\u001b[90mC:\\Users\\bdw19\\AppData\\Local\\Programs\\Julia-1.7.2\\share\\julia\\stdlib\\v1.7\\Test\\src\\\u001b[39m\u001b[90m\u001b[4mTest.jl:445\u001b[24m\u001b[39m\u001b[90m [inlined]\u001b[39m\n",
      "   [2] \u001b[0m\u001b[1mmacro expansion\u001b[22m\n",
      "  \u001b[90m   @ \u001b[39m\u001b[90m\u001b[4mIn[10]:5\u001b[24m\u001b[39m\u001b[90m [inlined]\u001b[39m\n",
      "   [3] \u001b[0m\u001b[1mmacro expansion\u001b[22m\n",
      "  \u001b[90m   @ \u001b[39m\u001b[90mC:\\Users\\bdw19\\AppData\\Local\\Programs\\Julia-1.7.2\\share\\julia\\stdlib\\v1.7\\Test\\src\\\u001b[39m\u001b[90m\u001b[4mTest.jl:1283\u001b[24m\u001b[39m\u001b[90m [inlined]\u001b[39m\n",
      "   [4] \u001b[0m\u001b[1mmacro expansion\u001b[22m\n",
      "  \u001b[90m   @ \u001b[39m\u001b[90m\u001b[4mIn[10]:3\u001b[24m\u001b[39m\u001b[90m [inlined]\u001b[39m\n",
      "   [5] \u001b[0m\u001b[1mmacro expansion\u001b[22m\n",
      "  \u001b[90m   @ \u001b[39m\u001b[90mC:\\Users\\bdw19\\AppData\\Local\\Programs\\Julia-1.7.2\\share\\julia\\stdlib\\v1.7\\Test\\src\\\u001b[39m\u001b[90m\u001b[4mTest.jl:1283\u001b[24m\u001b[39m\u001b[90m [inlined]\u001b[39m\n",
      "   [6] top-level scope\n",
      "  \u001b[90m   @ \u001b[39m\u001b[90m\u001b[4mIn[10]:2\u001b[24m\u001b[39m\n",
      "energy comparison: \u001b[91m\u001b[1mError During Test\u001b[22m\u001b[39m at \u001b[39m\u001b[1mIn[10]:6\u001b[22m\n",
      "  Test threw exception\n",
      "  Expression: std(diff(energy_rk4)) < 0.001\n",
      "  UndefVarError: energy_rk4 not defined\n",
      "  Stacktrace:\n",
      "   [1] \u001b[0m\u001b[1mmacro expansion\u001b[22m\n",
      "  \u001b[90m   @ \u001b[39m\u001b[90mC:\\Users\\bdw19\\AppData\\Local\\Programs\\Julia-1.7.2\\share\\julia\\stdlib\\v1.7\\Test\\src\\\u001b[39m\u001b[90m\u001b[4mTest.jl:445\u001b[24m\u001b[39m\u001b[90m [inlined]\u001b[39m\n",
      "   [2] \u001b[0m\u001b[1mmacro expansion\u001b[22m\n",
      "  \u001b[90m   @ \u001b[39m\u001b[90m\u001b[4mIn[10]:6\u001b[24m\u001b[39m\u001b[90m [inlined]\u001b[39m\n",
      "   [3] \u001b[0m\u001b[1mmacro expansion\u001b[22m\n",
      "  \u001b[90m   @ \u001b[39m\u001b[90mC:\\Users\\bdw19\\AppData\\Local\\Programs\\Julia-1.7.2\\share\\julia\\stdlib\\v1.7\\Test\\src\\\u001b[39m\u001b[90m\u001b[4mTest.jl:1283\u001b[24m\u001b[39m\u001b[90m [inlined]\u001b[39m\n",
      "   [4] \u001b[0m\u001b[1mmacro expansion\u001b[22m\n",
      "  \u001b[90m   @ \u001b[39m\u001b[90m\u001b[4mIn[10]:3\u001b[24m\u001b[39m\u001b[90m [inlined]\u001b[39m\n",
      "   [5] \u001b[0m\u001b[1mmacro expansion\u001b[22m\n",
      "  \u001b[90m   @ \u001b[39m\u001b[90mC:\\Users\\bdw19\\AppData\\Local\\Programs\\Julia-1.7.2\\share\\julia\\stdlib\\v1.7\\Test\\src\\\u001b[39m\u001b[90m\u001b[4mTest.jl:1283\u001b[24m\u001b[39m\u001b[90m [inlined]\u001b[39m\n",
      "   [6] top-level scope\n",
      "  \u001b[90m   @ \u001b[39m\u001b[90m\u001b[4mIn[10]:2\u001b[24m\u001b[39m\n",
      "\u001b[0m\u001b[1mTest Summary:       | \u001b[22m\u001b[91m\u001b[1mError  \u001b[22m\u001b[39m\u001b[36m\u001b[1mTotal\u001b[22m\u001b[39m\n",
      "1d                  | \u001b[91m    4  \u001b[39m\u001b[36m    4\u001b[39m\n",
      "  energy comparison | \u001b[91m    4  \u001b[39m\u001b[36m    4\u001b[39m\n"
     ]
    },
    {
     "ename": "LoadError",
     "evalue": "\u001b[91mSome tests did not pass: 0 passed, 0 failed, 4 errored, 0 broken.\u001b[39m",
     "output_type": "error",
     "traceback": [
      "\u001b[91mSome tests did not pass: 0 passed, 0 failed, 4 errored, 0 broken.\u001b[39m",
      "",
      "Stacktrace:",
      " [1] finish(ts::Test.DefaultTestSet)",
      "   @ Test C:\\Users\\bdw19\\AppData\\Local\\Programs\\Julia-1.7.2\\share\\julia\\stdlib\\v1.7\\Test\\src\\Test.jl:1044",
      " [2] macro expansion",
      "   @ C:\\Users\\bdw19\\AppData\\Local\\Programs\\Julia-1.7.2\\share\\julia\\stdlib\\v1.7\\Test\\src\\Test.jl:1294 [inlined]",
      " [3] top-level scope",
      "   @ In[10]:2",
      " [4] eval",
      "   @ .\\boot.jl:373 [inlined]",
      " [5] include_string(mapexpr::typeof(REPL.softscope), mod::Module, code::String, filename::String)",
      "   @ Base .\\loading.jl:1196"
     ]
    }
   ],
   "source": [
    "@testset \"1d\" begin                                                   # POINTS = 4\n",
    "    @testset \"energy comparison\" begin                                # POINTS = 4\n",
    "        @test length(energy_rk4) == length(energy_implicit)\n",
    "        @test energy_rk4[end] < energy_implicit[end]                  # POINTS = 1\n",
    "        @test mean(diff(energy_rk4)) ≈ -2.5e-5 atol=1e-5              # POINTS = 2\n",
    "        @test std(diff(energy_rk4)) < 1e-3  # should be about linear  # POINTS = 1\n",
    "    end\n",
    "end;"
   ]
  },
  {
   "cell_type": "markdown",
   "metadata": {
    "tags": []
   },
   "source": [
    "## Part (e): Evaluating the Jacobian (5 pts)\n",
    "Computing the Jacobian for an explicit integrator like RK4 is straightforward, since it's just a basic application of the chain rule (you should do this for practice, and can check your result with ForwardDiff). \n",
    "\n",
    "Computing the Jacobian for an implicit integrator is not as trivial since we use Newton's method to compute the next step. However, we can use the [implicit function theorem](https://en.wikipedia.org/wiki/Implicit_function_theorem), which can be easily derived by taking a 1st order Taylor series expansion of $f(x,y) = 0$:\n",
    "$$ f(x,y) = 0 \\implies f(x + \\Delta x, y + \\Delta y) \\approx f(x,y) + \\frac{\\partial f}{\\partial x} \\Delta x + \\frac{\\partial f}{\\partial y} \\Delta y = 0 $$\n",
    "Dropping $f(x,y)$ (since it's zero) and solving for $\\Delta x$ we obtain an expression for our Jacobian:\n",
    "$$ \\Delta x = -\\frac{\\partial f}{\\partial x}^{-1} \\frac{\\partial f}{\\partial y} \\Delta y $$\n",
    "\n",
    "Use this to compute the Jacobian of the implicit integrator, evaluated at $\\theta_1 = \\omega_1 = 0$ with $h = 0.1$. "
   ]
  },
  {
   "cell_type": "code",
   "execution_count": 11,
   "metadata": {},
   "outputs": [
    {
     "data": {
      "text/plain": [
       "2×2 Matrix{Float64}:\n",
       "  0.952124  0.0976062\n",
       " -0.957517  0.952124"
      ]
     },
     "execution_count": 11,
     "metadata": {},
     "output_type": "execute_result"
    }
   ],
   "source": [
    "# TASK: Compute the Jacobian of the implicit midpoint integrator for h = 0.1. (3 pts)\n",
    "#       Store the result in `Amid::Matrix{Float64}` of size (2,2)\n",
    "Amid = zeros(2,2)\n",
    "x = [0\n",
    "    0]\n",
    "h = 0.1\n",
    "g = 9.81\n",
    "dfdx = [1 -h/2\n",
    "        g*h*0.5*cos(x[1]) 1]\n",
    "dfdy = [-1 -h/2\n",
    "        g*h*0.5*cos(x[1]) -1]\n",
    "Amid = -dfdx\\dfdy"
   ]
  },
  {
   "cell_type": "code",
   "execution_count": 5,
   "metadata": {},
   "outputs": [
    {
     "ename": "LoadError",
     "evalue": "UndefVarError: x not defined",
     "output_type": "error",
     "traceback": [
      "UndefVarError: x not defined",
      "",
      "Stacktrace:",
      " [1] top-level scope",
      "   @ .\\In[5]:6",
      " [2] eval",
      "   @ .\\boot.jl:360 [inlined]",
      " [3] include_string(mapexpr::typeof(REPL.softscope), mod::Module, code::String, filename::String)",
      "   @ Base .\\loading.jl:1116"
     ]
    }
   ],
   "source": [
    "# TASK: Compute the magnitude of the eigenvalues of A for 0 ≤ h ≤ 1.  (1 pt)\n",
    "#       Store the result in `eigs_implicit::Matrix{Float64}` of size (100,2)\n",
    "eigs_implicit = zeros(100,2)\n",
    "h = range(0,100,length=100)\n",
    "for i = 1:1:100\n",
    "    dfdx = [1 -h[i]/2\n",
    "    g*h[i]*0.5*cos(x[1]) 1]\n",
    "    dfdy = [-1 -h[i]/2\n",
    "    g*h[i]*0.5*cos(x[1]) -1]\n",
    "    Amid = -dfdx\\dfdy\n",
    "    eigs[i,:] = norm.(eigvals(Amid))\n",
    "end\n",
    "# TASK: Plot the eigenvalues vs time step (1 pt)\n",
    "plot(h,eigs)"
   ]
  },
  {
   "cell_type": "markdown",
   "metadata": {},
   "source": [
    "Obviously something special is going on here. Implicit midpoint is a \"symplectic\" integrator. That means it conserves energy (up to numerical roundoff/truncation error). Implicit midpoint is also the simplest \"collocation\" method. More about those later..."
   ]
  },
  {
   "cell_type": "code",
   "execution_count": 49,
   "metadata": {},
   "outputs": [
    {
     "name": "stdout",
     "output_type": "stream",
     "text": [
      "1e: \u001b[91m\u001b[1mTest Failed\u001b[22m\u001b[39m at \u001b[39m\u001b[1mIn[49]:3\u001b[22m\n",
      "  Expression: ≈(mean(eigs_implicit), 1.0, atol = 1.0e-6)\n",
      "   Evaluated: 0.0 ≈ 1.0 (atol=1.0e-6)\n",
      "Stacktrace:\n",
      " [1] \u001b[0m\u001b[1mmacro expansion\u001b[22m\n",
      "\u001b[90m   @ \u001b[39m\u001b[90mC:\\Users\\bdw19\\AppData\\Local\\Programs\\Julia-1.7.2\\share\\julia\\stdlib\\v1.7\\Test\\src\\\u001b[39m\u001b[90m\u001b[4mTest.jl:445\u001b[24m\u001b[39m\u001b[90m [inlined]\u001b[39m\n",
      " [2] \u001b[0m\u001b[1mmacro expansion\u001b[22m\n",
      "\u001b[90m   @ \u001b[39m\u001b[90m\u001b[4mIn[49]:3\u001b[24m\u001b[39m\u001b[90m [inlined]\u001b[39m\n",
      " [3] \u001b[0m\u001b[1mmacro expansion\u001b[22m\n",
      "\u001b[90m   @ \u001b[39m\u001b[90mC:\\Users\\bdw19\\AppData\\Local\\Programs\\Julia-1.7.2\\share\\julia\\stdlib\\v1.7\\Test\\src\\\u001b[39m\u001b[90m\u001b[4mTest.jl:1283\u001b[24m\u001b[39m\u001b[90m [inlined]\u001b[39m\n",
      " [4] top-level scope\n",
      "\u001b[90m   @ \u001b[39m\u001b[90m\u001b[4mIn[49]:2\u001b[24m\u001b[39m\n",
      "\u001b[0m\u001b[1mTest Summary: | \u001b[22m\u001b[32m\u001b[1mPass  \u001b[22m\u001b[39m\u001b[91m\u001b[1mFail  \u001b[22m\u001b[39m\u001b[36m\u001b[1mTotal\u001b[22m\u001b[39m\n",
      "1e            | \u001b[32m   3  \u001b[39m\u001b[91m   1  \u001b[39m\u001b[36m    4\u001b[39m\n"
     ]
    },
    {
     "ename": "LoadError",
     "evalue": "\u001b[91mSome tests did not pass: 3 passed, 1 failed, 0 errored, 0 broken.\u001b[39m",
     "output_type": "error",
     "traceback": [
      "\u001b[91mSome tests did not pass: 3 passed, 1 failed, 0 errored, 0 broken.\u001b[39m",
      "",
      "Stacktrace:",
      " [1] finish(ts::Test.DefaultTestSet)",
      "   @ Test C:\\Users\\bdw19\\AppData\\Local\\Programs\\Julia-1.7.2\\share\\julia\\stdlib\\v1.7\\Test\\src\\Test.jl:1044",
      " [2] macro expansion",
      "   @ C:\\Users\\bdw19\\AppData\\Local\\Programs\\Julia-1.7.2\\share\\julia\\stdlib\\v1.7\\Test\\src\\Test.jl:1294 [inlined]",
      " [3] top-level scope",
      "   @ In[49]:2",
      " [4] eval",
      "   @ .\\boot.jl:373 [inlined]",
      " [5] include_string(mapexpr::typeof(REPL.softscope), mod::Module, code::String, filename::String)",
      "   @ Base .\\loading.jl:1196"
     ]
    }
   ],
   "source": [
    "@testset \"1e\" begin                               # POINTS = 5\n",
    "    @test size(eigs_implicit) == (100,2)          # POINTS = 0\n",
    "    @test mean(eigs_implicit) ≈ 1.0 atol=1e-6     # POINTS = 2\n",
    "    @test std(eigs_implicit) ≈ 0 atol=1e-10       # POINTS = 2\n",
    "    @test Amid ≈ load(resfile, \"Amid\") atol=1e-6  # POINTS = 1\n",
    "end;\n"
   ]
  },
  {
   "cell_type": "code",
   "execution_count": null,
   "metadata": {},
   "outputs": [],
   "source": []
  }
 ],
 "metadata": {
  "kernelspec": {
   "display_name": "Julia 1.6.5",
   "language": "julia",
   "name": "julia-1.6"
  },
  "language_info": {
   "file_extension": ".jl",
   "mimetype": "application/julia",
   "name": "julia",
   "version": "1.6.5"
  }
 },
 "nbformat": 4,
 "nbformat_minor": 4
}
